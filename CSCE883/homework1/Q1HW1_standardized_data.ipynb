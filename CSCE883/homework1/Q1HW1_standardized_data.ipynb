{
 "cells": [
  {
   "cell_type": "code",
   "execution_count": 2,
   "metadata": {},
   "outputs": [],
   "source": [
    "import numpy as np\n",
    "import pandas as pd\n",
    "import matplotlib.pyplot as plt\n",
    "from sklearn.model_selection import train_test_split\n",
    "from sklearn.neighbors import KNeighborsClassifier\n",
    "from sklearn.metrics import accuracy_score\n",
    "from sklearn.preprocessing import StandardScaler"
   ]
  },
  {
   "cell_type": "code",
   "execution_count": 3,
   "metadata": {},
   "outputs": [],
   "source": [
    "train_df = pd.read_csv('Q1_train.csv')\n",
    "test_df = pd.read_csv('Q1_test.csv')"
   ]
  },
  {
   "cell_type": "code",
   "execution_count": 5,
   "metadata": {},
   "outputs": [],
   "source": [
    "# separating Features (X) and Labels (y)\n",
    "X_train = train_df.iloc[:, :-1].values\n",
    "y_train = train_df.iloc[:, -1].values\n",
    "\n",
    "X_test = test_df.iloc[:, :-1].values\n",
    "y_test = test_df.iloc[:, -1].values"
   ]
  },
  {
   "cell_type": "code",
   "execution_count": 6,
   "metadata": {},
   "outputs": [],
   "source": [
    "from sklearn.preprocessing import StandardScaler\n",
    "scaler = StandardScaler()\n",
    "\n",
    "X_train_standardized = scaler.fit_transform(X_train)\n",
    "X_test_standardized = scaler.transform(X_test)\n"
   ]
  },
  {
   "cell_type": "code",
   "execution_count": 7,
   "metadata": {},
   "outputs": [
    {
     "name": "stdout",
     "output_type": "stream",
     "text": [
      "   K  No. of Correct Predictions  Accuracy\n",
      "0  1                         460  0.997831\n",
      "1  2                         460  0.997831\n",
      "2  3                         460  0.997831\n",
      "3  4                         460  0.997831\n",
      "4  5                         460  0.997831\n",
      "5  6                         460  0.997831\n",
      "6  7                         460  0.997831\n",
      "7  8                         460  0.997831\n",
      "8  9                         460  0.997831\n"
     ]
    }
   ],
   "source": [
    "from sklearn.neighbors import KNeighborsClassifier\n",
    "from sklearn.metrics import accuracy_score\n",
    "\n",
    "standard_results = []\n",
    "\n",
    "for k in range(1, 10):  # Trying different K values from 1 to 9\n",
    "    knn = KNeighborsClassifier(n_neighbors=k)\n",
    "    knn.fit(X_train_standardized, y_train)\n",
    "    y_pred = knn.predict(X_test_standardized)\n",
    "    correct_predictions = (y_test == y_pred).sum()\n",
    "    accuracy = accuracy_score(y_test, y_pred)\n",
    "    standard_results.append((k, correct_predictions, accuracy))\n",
    "\n",
    "standard_results_df = pd.DataFrame(standard_results, columns=['K', 'No. of Correct Predictions', 'Accuracy'])\n",
    "print(standard_results_df)\n"
   ]
  },
  {
   "cell_type": "code",
   "execution_count": null,
   "metadata": {},
   "outputs": [],
   "source": []
  }
 ],
 "metadata": {
  "kernelspec": {
   "display_name": "base",
   "language": "python",
   "name": "python3"
  },
  "language_info": {
   "codemirror_mode": {
    "name": "ipython",
    "version": 3
   },
   "file_extension": ".py",
   "mimetype": "text/x-python",
   "name": "python",
   "nbconvert_exporter": "python",
   "pygments_lexer": "ipython3",
   "version": "3.12.3"
  }
 },
 "nbformat": 4,
 "nbformat_minor": 2
}
