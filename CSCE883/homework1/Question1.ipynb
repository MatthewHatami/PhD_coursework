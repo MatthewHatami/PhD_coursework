{
 "cells": [
  {
   "cell_type": "code",
   "execution_count": 23,
   "metadata": {},
   "outputs": [],
   "source": [
    "import numpy as np\n",
    "import pandas as pd\n",
    "import matplotlib.pyplot as plt\n",
    "from sklearn.model_selection import train_test_split\n",
    "from sklearn.neighbors import KNeighborsClassifier\n",
    "from sklearn.metrics import accuracy_score\n",
    "from sklearn.preprocessing import StandardScaler"
   ]
  },
  {
   "cell_type": "code",
   "execution_count": 24,
   "metadata": {},
   "outputs": [],
   "source": [
    "train_df = pd.read_csv('Q1_train.csv')\n",
    "test_df = pd.read_csv('Q1_test.csv')"
   ]
  },
  {
   "cell_type": "code",
   "execution_count": 25,
   "metadata": {},
   "outputs": [
    {
     "name": "stdout",
     "output_type": "stream",
     "text": [
      "train dataframe shape:  (909, 5)\n",
      "test dataframe shape:  (461, 5)\n"
     ]
    }
   ],
   "source": [
    "# printing train and test dataset shapes\n",
    "print(\"train dataframe shape: \", train_df.shape)\n",
    "print(\"test dataframe shape: \", test_df.shape)"
   ]
  },
  {
   "cell_type": "code",
   "execution_count": 26,
   "metadata": {},
   "outputs": [
    {
     "name": "stdout",
     "output_type": "stream",
     "text": [
      "train df head:      3.6216  8.6661  -2.8073  -0.44699  0\n",
      "0  4.54590  8.1674  -2.4586  -1.46210  0\n",
      "1  3.86600 -2.6383   1.9242   0.10645  0\n",
      "2  3.45660  9.5228  -4.0112  -3.59440  0\n",
      "3  0.32924 -4.4552   4.5718  -0.98880  0\n",
      "4  4.36840  9.6718  -3.9606  -3.16250  0\n",
      "test df head:     3.8644   3.7061  0.70403  0.35214  0\n",
      "0  1.2999  2.57620  2.01070 -0.18967  0\n",
      "1  2.0051 -6.86380  8.13200 -0.24010  0\n",
      "2  4.9294  0.27727  0.20792  0.33662  0\n",
      "3  2.8297  6.34850 -0.73546 -0.58665  0\n",
      "4  2.5650  8.63300 -2.99410 -1.30820  0\n"
     ]
    }
   ],
   "source": [
    "# looking at the first 5 rows of the train and test datasets\n",
    "print(\"train df head: \", train_df.head())\n",
    "print(\"test df head: \", test_df.head())"
   ]
  },
  {
   "cell_type": "code",
   "execution_count": 27,
   "metadata": {},
   "outputs": [
    {
     "name": "stdout",
     "output_type": "stream",
     "text": [
      "train df unique labels:  [0 1]\n"
     ]
    }
   ],
   "source": [
    "# all labels are 0s here, to make sure we have more labels I will print the unique values of the labels\n",
    "\n",
    "print(\"train df unique labels: \", train_df['0'].unique())\n"
   ]
  },
  {
   "cell_type": "code",
   "execution_count": 28,
   "metadata": {},
   "outputs": [],
   "source": [
    "# separating Features (X) and Labels (y)\n",
    "X_train = train_df.iloc[:, :-1].values\n",
    "y_train = train_df.iloc[:, -1].values\n",
    "\n",
    "X_test = test_df.iloc[:, :-1].values\n",
    "y_test = test_df.iloc[:, -1].values"
   ]
  },
  {
   "cell_type": "code",
   "execution_count": 29,
   "metadata": {},
   "outputs": [
    {
     "name": "stdout",
     "output_type": "stream",
     "text": [
      "X_train shape: (909, 4)\n",
      "y_train shape: (909,)\n",
      "X_test shape: (461, 4)\n",
      "y_test shape: (461,)\n"
     ]
    }
   ],
   "source": [
    "# to make sure the shapes are correct\n",
    "print(\"X_train shape:\", X_train.shape)\n",
    "print(\"y_train shape:\", y_train.shape)\n",
    "print(\"X_test shape:\", X_test.shape)\n",
    "print(\"y_test shape:\", y_test.shape)"
   ]
  },
  {
   "cell_type": "code",
   "execution_count": 31,
   "metadata": {},
   "outputs": [
    {
     "name": "stdout",
     "output_type": "stream",
     "text": [
      "K=1: Accuracy=1.0000000000000000\n",
      "K=2: Accuracy=1.0000000000000000\n",
      "K=3: Accuracy=1.0000000000000000\n",
      "K=4: Accuracy=1.0000000000000000\n",
      "K=5: Accuracy=1.0000000000000000\n",
      "K=6: Accuracy=1.0000000000000000\n",
      "K=7: Accuracy=1.0000000000000000\n",
      "K=8: Accuracy=1.0000000000000000\n",
      "K=9: Accuracy=1.0000000000000000\n"
     ]
    }
   ],
   "source": [
    "# Try different values of K\n",
    "k_values = [i for i in range(1, 10)]\n",
    "accuracies = []\n",
    "\n",
    "for k in k_values:\n",
    "    knn = KNeighborsClassifier(n_neighbors=k, metric='euclidean')\n",
    "    knn.fit(X_train, y_train)  # Train the model on the raw data\n",
    "    y_pred = knn.predict(X_test)  # Predict on the raw test data\n",
    "    acc = accuracy_score(y_test, y_pred)\n",
    "    accuracies.append(acc)\n",
    "    print(f\"K={k}: Accuracy={acc:.16f}\")"
   ]
  },
  {
   "cell_type": "code",
   "execution_count": 18,
   "metadata": {},
   "outputs": [],
   "source": [
    "# initialize scalar\n",
    "scaler = StandardScaler()\n",
    "\n",
    "X_train_scaled = scaler.fit_transform(X_train)\n",
    "X_test_scaled = scaler.transform(X_test)"
   ]
  },
  {
   "cell_type": "code",
   "execution_count": 21,
   "metadata": {},
   "outputs": [
    {
     "name": "stdout",
     "output_type": "stream",
     "text": [
      "K=1: Accuracy=0.9978308026030369\n",
      "K=2: Accuracy=0.9978308026030369\n",
      "K=3: Accuracy=0.9978308026030369\n",
      "K=4: Accuracy=0.9978308026030369\n",
      "K=5: Accuracy=0.9978308026030369\n",
      "K=6: Accuracy=0.9978308026030369\n",
      "K=7: Accuracy=0.9978308026030369\n",
      "K=8: Accuracy=0.9978308026030369\n",
      "K=9: Accuracy=0.9978308026030369\n"
     ]
    }
   ],
   "source": [
    "k_values = [i for i in range(1, 10)]\n",
    "accuracies = []\n",
    "\n",
    "for k in k_values:\n",
    "    knn = KNeighborsClassifier(n_neighbors=k, metric='euclidean')\n",
    "    knn.fit(X_train_scaled, y_train)\n",
    "    y_pred = knn.predict(X_test_scaled)\n",
    "    acc = accuracy_score(y_test, y_pred)\n",
    "    accuracies.append(acc)\n",
    "    print(f\"K={k}: Accuracy={acc:.16f}\")"
   ]
  },
  {
   "cell_type": "code",
   "execution_count": null,
   "metadata": {},
   "outputs": [],
   "source": []
  }
 ],
 "metadata": {
  "kernelspec": {
   "display_name": "base",
   "language": "python",
   "name": "python3"
  },
  "language_info": {
   "codemirror_mode": {
    "name": "ipython",
    "version": 3
   },
   "file_extension": ".py",
   "mimetype": "text/x-python",
   "name": "python",
   "nbconvert_exporter": "python",
   "pygments_lexer": "ipython3",
   "version": "3.9.7"
  }
 },
 "nbformat": 4,
 "nbformat_minor": 2
}
