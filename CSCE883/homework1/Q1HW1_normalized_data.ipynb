{
 "cells": [
  {
   "cell_type": "code",
   "execution_count": 1,
   "metadata": {},
   "outputs": [],
   "source": [
    "import numpy as np\n",
    "import pandas as pd\n",
    "import matplotlib.pyplot as plt\n",
    "from sklearn.model_selection import train_test_split\n",
    "from sklearn.neighbors import KNeighborsClassifier\n",
    "from sklearn.metrics import accuracy_score\n",
    "from sklearn.preprocessing import StandardScaler"
   ]
  },
  {
   "cell_type": "code",
   "execution_count": 2,
   "metadata": {},
   "outputs": [],
   "source": [
    "train_df = pd.read_csv('Q1_train.csv')\n",
    "test_df = pd.read_csv('Q1_test.csv')"
   ]
  },
  {
   "cell_type": "code",
   "execution_count": 3,
   "metadata": {},
   "outputs": [
    {
     "name": "stdout",
     "output_type": "stream",
     "text": [
      "train dataframe shape:  (909, 5)\n",
      "test dataframe shape:  (461, 5)\n"
     ]
    }
   ],
   "source": [
    "# printing train and test dataset shapes\n",
    "print(\"train dataframe shape: \", train_df.shape)\n",
    "print(\"test dataframe shape: \", test_df.shape)"
   ]
  },
  {
   "cell_type": "code",
   "execution_count": 4,
   "metadata": {},
   "outputs": [
    {
     "name": "stdout",
     "output_type": "stream",
     "text": [
      "train df head:      3.6216  8.6661  -2.8073  -0.44699  0\n",
      "0  4.54590  8.1674  -2.4586  -1.46210  0\n",
      "1  3.86600 -2.6383   1.9242   0.10645  0\n",
      "2  3.45660  9.5228  -4.0112  -3.59440  0\n",
      "3  0.32924 -4.4552   4.5718  -0.98880  0\n",
      "4  4.36840  9.6718  -3.9606  -3.16250  0\n",
      "test df head:     3.8644   3.7061  0.70403  0.35214  0\n",
      "0  1.2999  2.57620  2.01070 -0.18967  0\n",
      "1  2.0051 -6.86380  8.13200 -0.24010  0\n",
      "2  4.9294  0.27727  0.20792  0.33662  0\n",
      "3  2.8297  6.34850 -0.73546 -0.58665  0\n",
      "4  2.5650  8.63300 -2.99410 -1.30820  0\n"
     ]
    }
   ],
   "source": [
    "# looking at the first 5 rows of the train and test datasets\n",
    "print(\"train df head: \", train_df.head())\n",
    "print(\"test df head: \", test_df.head())"
   ]
  },
  {
   "cell_type": "code",
   "execution_count": 5,
   "metadata": {},
   "outputs": [],
   "source": [
    "# separating Features (X) and Labels (y)\n",
    "X_train = train_df.iloc[:, :-1].values\n",
    "y_train = train_df.iloc[:, -1].values\n",
    "\n",
    "X_test = test_df.iloc[:, :-1].values\n",
    "y_test = test_df.iloc[:, -1].values"
   ]
  },
  {
   "cell_type": "code",
   "execution_count": 6,
   "metadata": {},
   "outputs": [],
   "source": [
    "# normalizing thedata\n",
    "from sklearn.preprocessing import MinMaxScaler\n",
    "\n",
    "# Initialize the MinMaxScaler\n",
    "scaler = MinMaxScaler()\n",
    "\n",
    "# Fit on training data and transform both train and test data\n",
    "X_train_normalized = scaler.fit_transform(X_train)\n",
    "X_test_normalized = scaler.transform(X_test)"
   ]
  },
  {
   "cell_type": "code",
   "execution_count": 7,
   "metadata": {},
   "outputs": [
    {
     "name": "stdout",
     "output_type": "stream",
     "text": [
      "   K  No. of Correct Predictions  Accuracy\n",
      "0  1                         460  0.997831\n",
      "1  2                         460  0.997831\n",
      "2  3                         460  0.997831\n",
      "3  4                         460  0.997831\n",
      "4  5                         460  0.997831\n",
      "5  6                         460  0.997831\n",
      "6  7                         460  0.997831\n",
      "7  8                         460  0.997831\n",
      "8  9                         460  0.997831\n"
     ]
    }
   ],
   "source": [
    "from sklearn.neighbors import KNeighborsClassifier\n",
    "from sklearn.metrics import accuracy_score\n",
    "\n",
    "results = []\n",
    "\n",
    "for k in range(1, 10):  # Trying different K values from 1 to 9\n",
    "    # Initialize the KNN classifier with k neighbors\n",
    "    knn = KNeighborsClassifier(n_neighbors=k)\n",
    "    \n",
    "    # Train the classifier\n",
    "    knn.fit(X_train_normalized, y_train)\n",
    "    \n",
    "    # Predict on the test set\n",
    "    y_pred = knn.predict(X_test_normalized)\n",
    "    \n",
    "    # Calculate the number of correct predictions and accuracy\n",
    "    correct_predictions = (y_test == y_pred).sum()\n",
    "    accuracy = accuracy_score(y_test, y_pred)\n",
    "    \n",
    "    # Record results\n",
    "    results.append((k, correct_predictions, accuracy))\n",
    "\n",
    "# Convert results to a DataFrame for easier visualization\n",
    "results_df = pd.DataFrame(results, columns=['K', 'No. of Correct Predictions', 'Accuracy'])\n",
    "print(results_df)"
   ]
  },
  {
   "cell_type": "code",
   "execution_count": null,
   "metadata": {},
   "outputs": [],
   "source": []
  }
 ],
 "metadata": {
  "kernelspec": {
   "display_name": "base",
   "language": "python",
   "name": "python3"
  },
  "language_info": {
   "codemirror_mode": {
    "name": "ipython",
    "version": 3
   },
   "file_extension": ".py",
   "mimetype": "text/x-python",
   "name": "python",
   "nbconvert_exporter": "python",
   "pygments_lexer": "ipython3",
   "version": "3.12.3"
  }
 },
 "nbformat": 4,
 "nbformat_minor": 2
}
