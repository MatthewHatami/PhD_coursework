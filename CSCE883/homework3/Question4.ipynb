{
 "cells": [
  {
   "cell_type": "code",
   "execution_count": 4,
   "metadata": {},
   "outputs": [],
   "source": [
    "import numpy as np\n",
    "import torch\n",
    "import torch.nn as nn\n",
    "import torch.optim as optim\n",
    "from sklearn.model_selection import train_test_split"
   ]
  },
  {
   "cell_type": "code",
   "execution_count": 30,
   "metadata": {},
   "outputs": [],
   "source": [
    "# Read the DNA sequences and labels\n",
    "with open('humanvsran.seq.txt') as f:\n",
    "    sequences = [line.strip() for line in f.readlines()]\n",
    "\n",
    "with open('humanvsran_label.txt') as f:\n",
    "    labels = np.array([int(line.strip()) for line in f.readlines()])"
   ]
  },
  {
   "cell_type": "code",
   "execution_count": 31,
   "metadata": {},
   "outputs": [],
   "source": [
    "# Convert the DNA sequences to one-hot encoding\n",
    "def one_hot_encode(seq):\n",
    "    mapping = {'A': 0, 'C': 1, 'G': 2, 'T': 3}\n",
    "    one_hot = np.zeros((len(seq), 4), dtype=int)\n",
    "    for i, nucleotide in enumerate(seq):\n",
    "        one_hot[i, mapping[nucleotide]] = 1\n",
    "    return one_hot\n",
    "\n",
    "\n",
    "encoded_sequences = np.array([one_hot_encode(seq) for seq in sequences])"
   ]
  },
  {
   "cell_type": "code",
   "execution_count": 32,
   "metadata": {},
   "outputs": [],
   "source": [
    "# Split into training and test sets\n",
    "X_train, X_test, y_train, y_test = train_test_split(\n",
    "    encoded_sequences, labels, test_size=5000, random_state=42)"
   ]
  },
  {
   "cell_type": "code",
   "execution_count": 33,
   "metadata": {},
   "outputs": [],
   "source": [
    "# Define a simple neural network model\n",
    "class DNASequenceClassifier(nn.Module):\n",
    "    def __init__(self, input_size, hidden_size, output_size):\n",
    "        super(DNASequenceClassifier, self).__init__()\n",
    "        self.fc1 = nn.Linear(input_size, hidden_size)  # Adjusted input size\n",
    "        self.fc2 = nn.Linear(hidden_size, output_size)\n",
    "\n",
    "    def forward(self, x):\n",
    "        # Flatten the input for the fully connected layer\n",
    "        x = x.view(x.size(0), -1)  # Ensure input is flattened\n",
    "        x = torch.relu(self.fc1(x))\n",
    "        x = self.fc2(x)\n",
    "        return x"
   ]
  },
  {
   "cell_type": "code",
   "execution_count": 34,
   "metadata": {},
   "outputs": [],
   "source": [
    "# Initialize the model\n",
    "input_size = 250 * 4  # Flattened input size for one-hot encoded sequences\n",
    "hidden_size = 128\n",
    "output_size = 2  # Assuming binary classification\n",
    "model = DNASequenceClassifier(input_size, hidden_size, output_size)"
   ]
  },
  {
   "cell_type": "code",
   "execution_count": 35,
   "metadata": {},
   "outputs": [],
   "source": [
    "# Define loss function and optimizer\n",
    "criterion = nn.CrossEntropyLoss()\n",
    "optimizer = optim.Adam(model.parameters(), lr=0.001)"
   ]
  },
  {
   "cell_type": "code",
   "execution_count": 36,
   "metadata": {},
   "outputs": [],
   "source": [
    "# Function to train the model\n",
    "def train_model(model, X_train, y_train, epochs=10):\n",
    "    model.train()\n",
    "    for epoch in range(epochs):\n",
    "        inputs = torch.tensor(X_train, dtype=torch.float32)\n",
    "        labels = torch.tensor(y_train, dtype=torch.long)\n",
    "\n",
    "        # Forward pass\n",
    "        outputs = model(inputs)\n",
    "        loss = criterion(outputs, labels)\n",
    "\n",
    "        # Backward pass and optimization\n",
    "        optimizer.zero_grad()\n",
    "        loss.backward()\n",
    "        optimizer.step()\n",
    "\n",
    "        print(f'Epoch {epoch+1}/{epochs}, Loss: {loss.item()}')"
   ]
  },
  {
   "cell_type": "code",
   "execution_count": 37,
   "metadata": {},
   "outputs": [
    {
     "name": "stdout",
     "output_type": "stream",
     "text": [
      "Epoch 1/10, Loss: 0.6986245512962341\n",
      "Epoch 2/10, Loss: 0.6625272631645203\n",
      "Epoch 3/10, Loss: 0.6278836131095886\n",
      "Epoch 4/10, Loss: 0.5954279899597168\n",
      "Epoch 5/10, Loss: 0.5659282803535461\n",
      "Epoch 6/10, Loss: 0.5445443391799927\n",
      "Epoch 7/10, Loss: 0.5276498198509216\n",
      "Epoch 8/10, Loss: 0.5197811722755432\n",
      "Epoch 9/10, Loss: 0.513404369354248\n",
      "Epoch 10/10, Loss: 0.5101212859153748\n"
     ]
    }
   ],
   "source": [
    "# Train the model\n",
    "train_model(model, X_train, y_train, epochs=10)"
   ]
  },
  {
   "cell_type": "code",
   "execution_count": 38,
   "metadata": {},
   "outputs": [],
   "source": [
    "# Function to test the model\n",
    "def test_model(model, X_test, y_test):\n",
    "    model.eval()\n",
    "    with torch.no_grad():\n",
    "        inputs = torch.tensor(X_test, dtype=torch.float32)\n",
    "        labels = torch.tensor(y_test, dtype=torch.long)\n",
    "        outputs = model(inputs)\n",
    "        _, predicted = torch.max(outputs, 1)\n",
    "\n",
    "        accuracy = (predicted == labels).sum().item() / len(labels)\n",
    "        print(f'Accuracy: {accuracy * 100}%')"
   ]
  },
  {
   "cell_type": "code",
   "execution_count": 39,
   "metadata": {},
   "outputs": [
    {
     "name": "stdout",
     "output_type": "stream",
     "text": [
      "Accuracy: 79.0%\n"
     ]
    }
   ],
   "source": [
    "# Test the model\n",
    "test_model(model, X_test, y_test)"
   ]
  }
 ],
 "metadata": {
  "kernelspec": {
   "display_name": "base",
   "language": "python",
   "name": "python3"
  },
  "language_info": {
   "codemirror_mode": {
    "name": "ipython",
    "version": 3
   },
   "file_extension": ".py",
   "mimetype": "text/x-python",
   "name": "python",
   "nbconvert_exporter": "python",
   "pygments_lexer": "ipython3",
   "version": "3.9.7"
  }
 },
 "nbformat": 4,
 "nbformat_minor": 2
}
